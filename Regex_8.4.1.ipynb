{
 "cells": [
  {
   "cell_type": "code",
   "execution_count": 4,
   "id": "0190e9c9",
   "metadata": {},
   "outputs": [
    {
     "name": "stdout",
     "output_type": "stream",
     "text": [
      "{\"contact_id\": 4661, \"name\": \"Cecilia Velasco\", \"email\": \"cecilia.velasco@rodrigues.fr\"}\n",
      "[4661, 'Cecilia Velasco', 'cecilia.velasco@rodrigues.fr']\n"
     ]
    }
   ],
   "source": [
    "# Import the json module.\n",
    "import json\n",
    "# Assign the string data to a variable. \n",
    "data = \"{'contact_id': 4661, 'name': 'Cecilia Velasco', 'email': 'cecilia.velasco@rodrigues.fr'}\"\n",
    "data = data.replace(\"'\", '\"')\n",
    "print(data)\n",
    "\n",
    "# Convert the string data to a dictionary.\n",
    "converted_data = json.loads(data)\n",
    "# Iterate through the dictionary (row) and get the values.\n",
    "row_values = [v for k, v in converted_data.items()]\n",
    "\n",
    "\n",
    "\n",
    "print(row_values)"
   ]
  },
  {
   "cell_type": "code",
   "execution_count": 5,
   "id": "de80aa43",
   "metadata": {},
   "outputs": [
    {
     "name": "stdout",
     "output_type": "stream",
     "text": [
      "The value of the key 'contact_id' is: 4661\n",
      "The value of the key 'name' is: Cecilia Velasco\n",
      "The value of the key 'email' is: cecilia.velasco@rodrigues.fr\n"
     ]
    }
   ],
   "source": [
    "dict_data = {\"contact_id\": 4661, \"name\": \"Cecilia Velasco\", \"email\": \"cecilia.velasco@rodrigues.fr\"}\n",
    "\n",
    "print(\"The value of the key 'contact_id' is:\", dict_data[\"contact_id\"])\n",
    "print(\"The value of the key 'name' is:\", dict_data[\"name\"])\n",
    "print(\"The value of the key 'email' is:\", dict_data[\"email\"])"
   ]
  },
  {
   "cell_type": "code",
   "execution_count": null,
   "id": "27f5543d",
   "metadata": {},
   "outputs": [],
   "source": []
  }
 ],
 "metadata": {
  "kernelspec": {
   "display_name": "Python 3 (ipykernel)",
   "language": "python",
   "name": "python3"
  },
  "language_info": {
   "codemirror_mode": {
    "name": "ipython",
    "version": 3
   },
   "file_extension": ".py",
   "mimetype": "text/x-python",
   "name": "python",
   "nbconvert_exporter": "python",
   "pygments_lexer": "ipython3",
   "version": "3.9.15"
  }
 },
 "nbformat": 4,
 "nbformat_minor": 5
}
